{
 "cells": [
  {
   "cell_type": "code",
   "execution_count": null,
   "metadata": {},
   "outputs": [],
   "source": [
    "import os\n",
    "import csv\n",
    "import pandas as pd\n",
    "import matplotlib.pyplot as plt\n",
    "import numpy as np"
   ]
  },
  {
   "cell_type": "code",
   "execution_count": null,
   "metadata": {},
   "outputs": [],
   "source": [
    "folder_path = '/Users/mvrtvpivko/Desktop/PythonProgramowanie/Wyklad4'"
   ]
  },
  {
   "cell_type": "code",
   "execution_count": null,
   "metadata": {},
   "outputs": [],
   "source": [
    "csv_files = [f for f in os.listdir(folder_path) if f.endswith('.csv')]"
   ]
  },
  {
   "cell_type": "code",
   "execution_count": null,
   "metadata": {},
   "outputs": [],
   "source": [
    "data_list = []  # lista przechowująca dane\n",
    "info_list = []  # lista przechowująca informacje o plikach"
   ]
  },
  {
   "cell_type": "code",
   "execution_count": null,
   "metadata": {},
   "outputs": [],
   "source": [
    "expected_duration = 10"
   ]
  },
  {
   "cell_type": "code",
   "execution_count": null,
   "metadata": {},
   "outputs": [],
   "source": [
    "trimmed_signals = []"
   ]
  },
  {
   "cell_type": "code",
   "execution_count": null,
   "metadata": {},
   "outputs": [],
   "source": [
    "for csv_file in csv_files:\n",
    "    with open(os.path.join(folder_path, csv_file), 'r') as f:\n",
    "        reader = csv.reader(f)\n",
    "        data = list(reader)[6:]\n",
    "    "
   ]
  },
  {
   "cell_type": "code",
   "execution_count": null,
   "metadata": {},
   "outputs": [],
   "source": [
    "dataframe = pd.DataFrame(data, columns=[\"Artifact\", \"Num\", \"Date\", \"ACC_X\", \"ACC_Y\", \"ACC_Z\", \"GYRO_X\", \"GYRO_Y\", \"GYRO_Z\", \"EOG_L\", \"EOG_R\", \"EOG_H\", \"EOG_V\"])"
   ]
  },
  {
   "cell_type": "code",
   "execution_count": null,
   "metadata": {},
   "outputs": [],
   "source": [
    "acc_x = dataframe['ACC_X'].astype(int).tolist()\n",
    "acc_y = dataframe['ACC_Y'].astype(int).tolist()\n",
    "acc_z = dataframe['ACC_Z'].astype(int).tolist()\n",
    "gyro_x = dataframe['GYRO_X'].astype(int).tolist()\n",
    "gyro_y = dataframe['GYRO_Y'].astype(int).tolist()\n",
    "gyro_z = dataframe['GYRO_Z'].astype(int).tolist()\n",
    "eog_l = dataframe['EOG_L'].astype(int).tolist()\n",
    "eog_r = dataframe['EOG_R'].astype(int).tolist()\n",
    "eog_h = dataframe['EOG_H'].astype(int).tolist()\n",
    "eog_v = dataframe['EOG_V'].astype(int).tolist()"
   ]
  },
  {
   "cell_type": "code",
   "execution_count": null,
   "metadata": {},
   "outputs": [],
   "source": [
    "num = int(expected_duration * 100)"
   ]
  },
  {
   "cell_type": "code",
   "execution_count": null,
   "metadata": {},
   "outputs": [],
   "source": [
    "acc_x = acc_x[:num]\n",
    "acc_y = acc_y[:num]\n",
    "acc_z = acc_z[:num]\n",
    "gyro_x = gyro_x[:num]\n",
    "gyro_y = gyro_y[:num]\n",
    "gyro_z = gyro_z[:num]\n",
    "eog_l = eog_l[:num]\n",
    "eog_r = eog_r[:num]\n",
    "eog_h = eog_h[:num]\n",
    "eog_v = eog_v[:num]"
   ]
  },
  {
   "cell_type": "code",
   "execution_count": null,
   "metadata": {},
   "outputs": [],
   "source": [
    "file_info = {'file_name': csv_file, 'num_rows': len(eog_l)}\n",
    "   \n",
    "data_list.extend(eog_l)\n",
    "info_list.append(file_info)\n",
    "\n",
    "x = np.arange(len(eog_l))\n",
    "y = np.array(eog_l)"
   ]
  },
  {
   "cell_type": "code",
   "execution_count": null,
   "metadata": {},
   "outputs": [],
   "source": [
    "coefficients = np.polyfit(x, y, 1)\n",
    "linear_approximation = np.polyval(coefficients, x)\n",
    "print(\"EOG_L component charts for all trips\")\n",
    "plt.plot(x, y,'.', label=\"EOG_L\")\n",
    "plt.plot(x, linear_approximation, label=\"Linear aproximation\")\n",
    "plt.xlabel(\"Sample number\")\n",
    "plt.ylabel(\"EOG value\")\n",
    "plt.legend(loc='center left', bbox_to_anchor=(1, 0.5))\n",
    "plt.title(file_info['file_name'])\n",
    "plt.show()\n",
    "\n",
    "x2 = np.arange(len(data_list))\n",
    "y2 = np.array(data_list)\n"
   ]
  },
  {
   "cell_type": "code",
   "execution_count": null,
   "metadata": {},
   "outputs": [],
   "source": [
    "coefficients = np.polyfit(x2, y2, 1)\n",
    "linear_approximation = np.polyval(coefficients, x)"
   ]
  },
  {
   "cell_type": "code",
   "execution_count": null,
   "metadata": {},
   "outputs": [],
   "source": [
    "with open('', 'r') as file:\n",
    "    reader2 = csv.reader(file)\n",
    "\n",
    "    data2 = list(reader2)[6:]  \n",
    "   \n",
    "    dataframe2 = pd.DataFrame(data2, columns=[\"Artifact\", \"Num\", \"Date\", \"ACC_X\", \"ACC_Y\", \"ACC_Z\", \"GYRO_X\", \"GYRO_Y\", \"GYRO_Z\", \"EOG_L\", \"EOG_R\", \"EOG_H\", \"EOG_V\"])\n",
    "\n",
    "   \n",
    "    eog_l2 = dataframe2['EOG_L'].astype(int).tolist()\n",
    "\n",
    "    \n",
    "    eog_l2 = eog_l2[:num]\n",
    "\n",
    "    file_info2 = {'file_name': '28A183055B36_20230321164158.csv', 'num_rows': len(eog_l2)}\n",
    "   \n",
    "\n",
    "x2 = np.arange(len(eog_l2))\n",
    "y2 = np.array(eog_l2)\n",
    "\n",
    "coefficients2 = np.polyfit(x2, y2, 1)\n",
    "linear_approximation2 = np.polyval(coefficients2, x2)\n",
    "\n",
    "print(\"EOG_L component charts for all trips\")\n",
    "\n",
    "plt.plot(x2, y2,'.', label='EOG_L')\n",
    "plt.plot(x2, linear_approximation2, label=\"Linear Aproximation\")\n",
    "plt.xlabel(\"Sample number\")\n",
    "plt.ylabel(\"EOG Value\")\n",
    "plt.legend(loc='center left', bbox_to_anchor=(1, 0.5))\n",
    "plt.title(file_info2['file_name'])\n",
    "plt.show()"
   ]
  },
  {
   "cell_type": "code",
   "execution_count": null,
   "metadata": {},
   "outputs": [],
   "source": [
    "\n",
    "for csv_file in csv_files:\n",
    "    with open(os.path.join(folder_path, csv_file), 'r') as f:\n",
    "        reader = csv.reader(f)\n",
    "        data = list(reader)[6:]  \n",
    "    \n",
    "    \n",
    "    dataframe = pd.DataFrame(data, columns=[\"Artifact\", \"Num\", \"Date\", \"ACC_X\", \"ACC_Y\", \"ACC_Z\", \"GYRO_X\", \"GYRO_Y\", \"GYRO_Z\", \"EOG_L\", \"EOG_R\", \"EOG_H\", \"EOG_V\"])\n",
    "\n",
    "    eog_l = dataframe['EOG_L'].astype(int).tolist()\n",
    "\n",
    "    \n",
    "    eog_l = eog_l[:num]\n",
    "    file_info = {'file_name': csv_file, 'num_rows': len(eog_l)}\n",
    "   \n",
    "    data_list.extend(eog_l)\n",
    "    info_list.append(file_info)\n",
    "    \n",
    "    x = np.arange(len(eog_l))\n",
    "    y = np.array(eog_l)\n",
    "    plt.plot(x, y, '.', label=\"EOG_L\")\n",
    "    plt.xlabel(\"Sample Number\")\n",
    "    plt.ylabel(\"EOG Value\")\n",
    "    plt.legend(loc='center left', bbox_to_anchor=(1, 0.5))\n",
    "    plt.title(file_info['file_name'])\n",
    "    \n",
    "x3 = np.arange(len(data_list))\n",
    "y3 = np.array(data_list)\n",
    "\n",
    "coefficients3 = np.polyfit(x3, y3, 1)\n",
    "linear_approximation3 = np.polyval(coefficients3, x3) \n",
    "\n",
    "    \n",
    "plt.plot(linear_approximation3[:len(eog_l)], label=\"Linear Aproximation\", color='yellow')   \n",
    "plt.show()"
   ]
  },
  {
   "cell_type": "code",
   "execution_count": null,
   "metadata": {},
   "outputs": [],
   "source": [
    "\n",
    "for csv_file in csv_files:\n",
    "    with open(os.path.join(folder_path, csv_file), 'r') as f:\n",
    "        reader = csv.reader(f)\n",
    "        data = list(reader)[6:]  \n",
    "    \n",
    "\n",
    "    dataframe = pd.DataFrame(data, columns=[\"Artifact\", \"Num\", \"Date\", \"ACC_X\", \"ACC_Y\", \"ACC_Z\", \"GYRO_X\", \"GYRO_Y\", \"GYRO_Z\", \"EOG_L\", \"EOG_R\", \"EOG_H\", \"EOG_V\"])\n",
    "\n",
    "    eog_l = dataframe['EOG_L'].astype(int).tolist()\n",
    "\n",
    "    \n",
    "    eog_l = eog_l[:num]\n",
    "    file_info = {'file_name': csv_file, 'num_rows': len(eog_l)}\n",
    "   \n",
    "    data_list.extend(eog_l)\n",
    "    info_list.append(file_info)\n",
    "    \n",
    "    x = np.arange(len(eog_l))\n",
    "    y = np.array(eog_l)\n",
    "    plt.plot(x, y, '.', label=file_info['file_name'])\n",
    "    plt.xlabel(\"Sample Number\")\n",
    "    plt.ylabel(\"EOG Value\")\n",
    "    plt.legend(loc='center left', bbox_to_anchor=(1, 0.5))\n",
    "\n",
    "plt.plot(x2, y2, label=\"EOG_L for one pass\", color=\"white\")\n",
    "plt.plot(linear_approximation2, '--',label=\"Linear approximation for one pass\", color='blue')   \n",
    "plt.plot(linear_approximation3[:len(eog_l)], '--',label=\"Linear aproximation for all trips\", color='black')   \n",
    "plt.show()"
   ]
  }
 ],
 "metadata": {
  "language_info": {
   "name": "python"
  },
  "orig_nbformat": 4
 },
 "nbformat": 4,
 "nbformat_minor": 2
}
