{
 "cells": [
  {
   "attachments": {},
   "cell_type": "markdown",
   "metadata": {},
   "source": [
    "Test if tensorflow exists and if environment works"
   ]
  },
  {
   "cell_type": "code",
   "execution_count": 1,
   "metadata": {},
   "outputs": [
    {
     "name": "stdout",
     "output_type": "stream",
     "text": [
      "tensorflow version:  2.10.0\n"
     ]
    }
   ],
   "source": [
    "import tensorflow as tf\n",
    "print(\"tensorflow version: \", tf.__version__)"
   ]
  },
  {
   "attachments": {},
   "cell_type": "markdown",
   "metadata": {},
   "source": [
    "Calculate BMI indicator"
   ]
  },
  {
   "cell_type": "code",
   "execution_count": 2,
   "metadata": {},
   "outputs": [],
   "source": [
    "def get_number_value(information: str, min_val: float, max_val: float) -> float:\n",
    "    while True:\n",
    "        user_input = input(information)\n",
    "        try:\n",
    "            user_input_number = float(user_input)\n",
    "            if user_input_number > max_val or  user_input_number < min_val:\n",
    "                raise(\"ValueError\")\n",
    "        except:\n",
    "            print(f'Input must be numeric value in range {min_val} - {max_val}. Your input: {user_input}')\n",
    "            continue\n",
    "        break\n",
    "    return user_input_number\n"
   ]
  },
  {
   "cell_type": "code",
   "execution_count": 5,
   "metadata": {},
   "outputs": [
    {
     "name": "stdout",
     "output_type": "stream",
     "text": [
      "Your BMI indicator is: 51.89\n"
     ]
    }
   ],
   "source": [
    "\n",
    "user_mass = get_number_value(\"Write your body mass (how much you weight) in kilograms [kg]: \", min_val = 0.01, max_val = 1000)\n",
    "user_height = get_number_value(\"Write your height (how tall are you) in meters [m]: \", min_val = 0.1, max_val = 5)\n",
    "\n",
    "print(f'Your BMI indicator is: {(user_mass/user_height**2):0.2f}')"
   ]
  }
 ],
 "metadata": {
  "kernelspec": {
   "display_name": "pp_bmi",
   "language": "python",
   "name": "python3"
  },
  "language_info": {
   "codemirror_mode": {
    "name": "ipython",
    "version": 3
   },
   "file_extension": ".py",
   "mimetype": "text/x-python",
   "name": "python",
   "nbconvert_exporter": "python",
   "pygments_lexer": "ipython3",
   "version": "3.10.9"
  },
  "orig_nbformat": 4
 },
 "nbformat": 4,
 "nbformat_minor": 2
}
