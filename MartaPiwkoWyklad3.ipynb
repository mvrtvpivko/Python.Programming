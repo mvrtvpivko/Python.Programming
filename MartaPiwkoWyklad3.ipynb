{
 "cells": [
  {
   "cell_type": "code",
   "execution_count": null,
   "metadata": {},
   "outputs": [
    {
     "ename": "",
     "evalue": "",
     "output_type": "error",
     "traceback": [
      "\u001b[1;31mUruchomienie komórek z elementem „/Users/mvrtvpivko/opt/anaconda3/envs/inz-copy/bin/python” wymaga pakietu ipykernel.\n",
      "\u001b[1;31mRun the following command to install 'ipykernel' into the Python environment. \n",
      "\u001b[1;31mCommand: 'conda install -p /Users/mvrtvpivko/opt/anaconda3/envs/inz-copy ipykernel --update-deps --force-reinstall'"
     ]
    }
   ],
   "source": [
    "import os\n",
    "import csv\n",
    "import pandas as pd\n",
    "import matplotlib as plt"
   ]
  },
  {
   "cell_type": "code",
   "execution_count": null,
   "metadata": {},
   "outputs": [],
   "source": [
    "folder_path = '/Users/mvrtvpivko/Biurko/Wyklady.Python/Dane EOG JiNS_Meme'"
   ]
  },
  {
   "cell_type": "code",
   "execution_count": null,
   "metadata": {},
   "outputs": [],
   "source": [
    "csv_files = [f for f in os.listdir(folder_path) if f.endswith('.csv')]"
   ]
  },
  {
   "cell_type": "code",
   "execution_count": null,
   "metadata": {},
   "outputs": [],
   "source": [
    "for csv_file in csv_files:\n",
    "    with open(os.path.join(folder_path, csv_file), 'r') as f:\n",
    "        reader = csv.reader(f)\n",
    "        data = list(reader)[6:]  "
   ]
  },
  {
   "cell_type": "code",
   "execution_count": null,
   "metadata": {},
   "outputs": [],
   "source": [
    "dataframe = pd.DataFrame(data, columns=[\"Artifact\", \"Num\", \"Date\", \"ACC_X\", \"ACC_Y\", \"ACC_Z\", \"EOG_L1\", \"EOG_R1\", \"EOG_L2\", \"EOG_R2\", \"EOG_H1\", \"EOG_H2\", \"EOG_V1\", \"EOG_V2\"])"
   ]
  },
  {
   "cell_type": "code",
   "execution_count": null,
   "metadata": {},
   "outputs": [],
   "source": [
    "acc_x = dataframe['ACC_X'].astype(int).tolist()\n",
    "acc_y = dataframe['ACC_Y'].astype(int).tolist()\n",
    "acc_z = dataframe['ACC_Z'].astype(int).tolist()\n",
    "eog_l1 = dataframe['EOG_L1'].astype(int).tolist()\n",
    "eog_r1 = dataframe['EOG_R1'].astype(int).tolist()\n",
    "eog_l2 = dataframe['EOG_L2'].astype(int).tolist()\n",
    "eog_r2 = dataframe['EOG_R2'].astype(int).tolist()\n",
    "eog_h1 = dataframe['EOG_H1'].astype(int).tolist()\n",
    "eog_h2 = dataframe['EOG_H2'].astype(int).tolist()\n",
    "eog_v1 = dataframe['EOG_V1'].astype(int).tolist()\n",
    "eog_v2 = dataframe['EOG_V2'].astype(int).tolist()"
   ]
  },
  {
   "cell_type": "code",
   "execution_count": null,
   "metadata": {},
   "outputs": [],
   "source": [
    "EOG_L = [(-(r+(2*v))/2) for r, v in zip(eog_r1, eog_v2)]\n",
    "EOG_R = [(r - l - (2*v))/2 for r, l, v in zip(eog_r1, eog_l1, eog_v2)]\n",
    "EOG_H = [l - r for l, r in zip(EOG_L, EOG_R)]\n",
    "EOG_V = [-(l + r) / 2 for l, r in zip(EOG_L, EOG_R)]"
   ]
  },
  {
   "cell_type": "code",
   "execution_count": null,
   "metadata": {},
   "outputs": [],
   "source": [
    "print(pd.DataFrame({'ACC_X': acc_x}))\n",
    "print(pd.DataFrame({'ACC_Y': acc_y}))\n",
    "print(pd.DataFrame({'ACC_Z': acc_z}))\n",
    "print(pd.DataFrame({'EOG_L': EOG_L}))\n",
    "print(pd.DataFrame({'EOG_R': EOG_R}))\n",
    "print(pd.DataFrame({'EOG_H': EOG_H}))\n",
    "print(pd.DataFrame({'EOG_V': EOG_V}))"
   ]
  },
  {
   "cell_type": "code",
   "execution_count": null,
   "metadata": {},
   "outputs": [],
   "source": [
    "print(f'Wyniki dla pliku {csv_file}:')\n",
    "print(pd.DataFrame({'ACC_X': acc_x, 'ACC_Y': acc_y, 'ACC_Z': acc_z, 'EOG_L': EOG_L, 'EOG_R': EOG_R, 'EOG_H': EOG_H, 'EOG_V': EOG_V}))"
   ]
  },
  {
   "cell_type": "code",
   "execution_count": null,
   "metadata": {},
   "outputs": [],
   "source": [
    "fig, (ax1, ax2) = plt.subplots(1, 2, figsize=(10, 5))\n",
    "plt.title(f'Wykres dla pliku {csv_file}', x=0)\n",
    "\n",
    "ax1.plot(EOG_L, label='EOG_L')\n",
    "ax1.plot(EOG_R, label='EOG_R')\n",
    "ax1.plot(EOG_H, label='EOG_H')\n",
    "ax1.plot(EOG_V, label='EOG_V')\n",
    "\n",
    "ax1.set_xlabel('Czas')\n",
    "ax1.set_ylabel('Wartość EOG')\n",
    "ax1.legend()\n",
    "\n",
    "    \n",
    "ax2.plot(acc_x, label='ACC_X')\n",
    "ax2.plot(acc_y, label='ACC_Y')\n",
    "ax2.plot(acc_z, label='ACC_Z')\n",
    "    \n",
    "ax2.set_xlabel('Czas')\n",
    "ax2.set_ylabel('Wartość EOG')\n",
    "ax2.legend()\n",
    "    \n",
    "    \n",
    "plt.show()"
   ]
  }
 ],
 "metadata": {
  "kernelspec": {
   "display_name": "Python 3",
   "language": "python",
   "name": "python3"
  },
  "language_info": {
   "name": "python",
   "version": "3.7.13"
  },
  "orig_nbformat": 4
 },
 "nbformat": 4,
 "nbformat_minor": 2
}
